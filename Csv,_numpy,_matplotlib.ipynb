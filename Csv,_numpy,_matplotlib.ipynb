{
  "nbformat": 4,
  "nbformat_minor": 0,
  "metadata": {
    "colab": {
      "name": "Csv, numpy, matplotlib",
      "provenance": [],
      "collapsed_sections": [],
      "authorship_tag": "ABX9TyPU/yThcLM5vnsu106dqnYh",
      "include_colab_link": true
    },
    "kernelspec": {
      "name": "python3",
      "display_name": "Python 3"
    },
    "language_info": {
      "name": "python"
    }
  },
  "cells": [
    {
      "cell_type": "markdown",
      "metadata": {
        "id": "view-in-github",
        "colab_type": "text"
      },
      "source": [
        "<a href=\"https://colab.research.google.com/github/Daivar/Sraped-data/blob/main/Csv%2C_numpy%2C_matplotlib.ipynb\" target=\"_parent\"><img src=\"https://colab.research.google.com/assets/colab-badge.svg\" alt=\"Open In Colab\"/></a>"
      ]
    },
    {
      "cell_type": "code",
      "metadata": {
        "colab": {
          "base_uri": "https://localhost:8080/"
        },
        "id": "cRzZAjlN2d5k",
        "outputId": "ff173dc3-54a2-4138-f48b-c5986eae18d7"
      },
      "source": [
        "import numpy as np\n",
        "import csv\n",
        "\n",
        "arr = np.genfromtxt('topocentras.csv', delimiter=';', skip_header=1)\n",
        "arr"
      ],
      "execution_count": 8,
      "outputs": [
        {
          "output_type": "execute_result",
          "data": {
            "text/plain": [
              "array([ 599.99,  529.99, 1499.99,  319.99,  849.99, 1999.99,  999.99,\n",
              "        479.99,  349.99, 1499.99, 1299.99, 1199.99, 1199.99,  649.99,\n",
              "        399.99,  379.99,  799.99,  799.99,  699.99,  789.99])"
            ]
          },
          "metadata": {},
          "execution_count": 8
        }
      ]
    },
    {
      "cell_type": "code",
      "metadata": {
        "colab": {
          "base_uri": "https://localhost:8080/"
        },
        "id": "o_CPBjTo3TiE",
        "outputId": "2f29b6fc-0842-43ab-bd18-03c6e464b111"
      },
      "source": [
        "len(arr)"
      ],
      "execution_count": 6,
      "outputs": [
        {
          "output_type": "execute_result",
          "data": {
            "text/plain": [
              "20"
            ]
          },
          "metadata": {},
          "execution_count": 6
        }
      ]
    },
    {
      "cell_type": "code",
      "metadata": {
        "colab": {
          "base_uri": "https://localhost:8080/"
        },
        "id": "PzbZXXvG3bqb",
        "outputId": "36fa9b78-2d86-4f3a-cef7-eea2e8ebf472"
      },
      "source": [
        "print(np.sum(arr))"
      ],
      "execution_count": 10,
      "outputs": [
        {
          "output_type": "stream",
          "name": "stdout",
          "text": [
            "17349.800000000003\n"
          ]
        }
      ]
    },
    {
      "cell_type": "code",
      "metadata": {
        "colab": {
          "base_uri": "https://localhost:8080/"
        },
        "id": "gXSi2v2q4Gfs",
        "outputId": "9cd946fa-82d0-47e3-ed3b-865a394da124"
      },
      "source": [
        "print(np.sum(arr)/len(arr))"
      ],
      "execution_count": 11,
      "outputs": [
        {
          "output_type": "stream",
          "name": "stdout",
          "text": [
            "867.4900000000001\n"
          ]
        }
      ]
    },
    {
      "cell_type": "code",
      "metadata": {
        "colab": {
          "base_uri": "https://localhost:8080/"
        },
        "id": "QneuDJ374YV0",
        "outputId": "ac580625-7060-4fbb-8800-78e8d11d07cb"
      },
      "source": [
        "arr.reshape(5, 4)"
      ],
      "execution_count": 12,
      "outputs": [
        {
          "output_type": "execute_result",
          "data": {
            "text/plain": [
              "array([[ 599.99,  529.99, 1499.99,  319.99],\n",
              "       [ 849.99, 1999.99,  999.99,  479.99],\n",
              "       [ 349.99, 1499.99, 1299.99, 1199.99],\n",
              "       [1199.99,  649.99,  399.99,  379.99],\n",
              "       [ 799.99,  799.99,  699.99,  789.99]])"
            ]
          },
          "metadata": {},
          "execution_count": 12
        }
      ]
    },
    {
      "cell_type": "code",
      "metadata": {
        "colab": {
          "base_uri": "https://localhost:8080/"
        },
        "id": "Oj0YGARx4ZeM",
        "outputId": "9fbba999-99c8-45f5-ad2a-360289262d29"
      },
      "source": [
        "arr.reshape(10, 2)"
      ],
      "execution_count": 13,
      "outputs": [
        {
          "output_type": "execute_result",
          "data": {
            "text/plain": [
              "array([[ 599.99,  529.99],\n",
              "       [1499.99,  319.99],\n",
              "       [ 849.99, 1999.99],\n",
              "       [ 999.99,  479.99],\n",
              "       [ 349.99, 1499.99],\n",
              "       [1299.99, 1199.99],\n",
              "       [1199.99,  649.99],\n",
              "       [ 399.99,  379.99],\n",
              "       [ 799.99,  799.99],\n",
              "       [ 699.99,  789.99]])"
            ]
          },
          "metadata": {},
          "execution_count": 13
        }
      ]
    },
    {
      "cell_type": "code",
      "metadata": {
        "colab": {
          "base_uri": "https://localhost:8080/"
        },
        "id": "lz_paJYk4efV",
        "outputId": "e985c432-fc90-4fc2-949e-c112df69e752"
      },
      "source": [
        "arr.reshape(5, 2, 2)"
      ],
      "execution_count": 14,
      "outputs": [
        {
          "output_type": "execute_result",
          "data": {
            "text/plain": [
              "array([[[ 599.99,  529.99],\n",
              "        [1499.99,  319.99]],\n",
              "\n",
              "       [[ 849.99, 1999.99],\n",
              "        [ 999.99,  479.99]],\n",
              "\n",
              "       [[ 349.99, 1499.99],\n",
              "        [1299.99, 1199.99]],\n",
              "\n",
              "       [[1199.99,  649.99],\n",
              "        [ 399.99,  379.99]],\n",
              "\n",
              "       [[ 799.99,  799.99],\n",
              "        [ 699.99,  789.99]]])"
            ]
          },
          "metadata": {},
          "execution_count": 14
        }
      ]
    },
    {
      "cell_type": "code",
      "metadata": {
        "colab": {
          "base_uri": "https://localhost:8080/",
          "height": 282
        },
        "id": "QFA97rp35Rj6",
        "outputId": "b8f7583f-03d4-4e3d-89e4-554c08224831"
      },
      "source": [
        "import matplotlib.pyplot as plt\n",
        "\n",
        "plt.plot(arr)\n",
        "plt.show"
      ],
      "execution_count": 16,
      "outputs": [
        {
          "output_type": "execute_result",
          "data": {
            "text/plain": [
              "<function matplotlib.pyplot.show>"
            ]
          },
          "metadata": {},
          "execution_count": 16
        },
        {
          "output_type": "display_data",
          "data": {
            "image/png": "[encoded data removed]",
            "text/plain": [
              "<Figure size 432x288 with 1 Axes>"
            ]
          },
          "metadata": {
            "needs_background": "light"
          }
        }
      ]
    }
  ]
}